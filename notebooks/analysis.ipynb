{
 "cells": [
  {
   "cell_type": "code",
   "execution_count": null,
   "id": "initial_id",
   "metadata": {
    "collapsed": true,
    "jupyter": {
     "outputs_hidden": true
    }
   },
   "outputs": [],
   "source": []
  },
  {
   "cell_type": "code",
   "execution_count": 1,
   "id": "4f4324211e9bfd4d",
   "metadata": {
    "collapsed": false
   },
   "outputs": [
    {
     "ename": "ModuleNotFoundError",
     "evalue": "No module named 'src'",
     "output_type": "error",
     "traceback": [
      "\u001B[0;31m---------------------------------------------------------------------------\u001B[0m",
      "\u001B[0;31mModuleNotFoundError\u001B[0m                       Traceback (most recent call last)",
      "Cell \u001B[0;32mIn[1], line 5\u001B[0m\n\u001B[1;32m      1\u001B[0m \u001B[38;5;66;03m# analysis.ipynb\u001B[39;00m\n\u001B[1;32m      2\u001B[0m \n\u001B[1;32m      3\u001B[0m \u001B[38;5;66;03m# Notebook for exploratory analysis and combining tasks\u001B[39;00m\n\u001B[1;32m      4\u001B[0m \u001B[38;5;28;01mimport\u001B[39;00m \u001B[38;5;21;01mpandas\u001B[39;00m \u001B[38;5;28;01mas\u001B[39;00m \u001B[38;5;21;01mpd\u001B[39;00m\n\u001B[0;32m----> 5\u001B[0m \u001B[38;5;28;01mfrom\u001B[39;00m \u001B[38;5;21;01msrc\u001B[39;00m\u001B[38;5;21;01m.\u001B[39;00m\u001B[38;5;21;01mfill_missing_values\u001B[39;00m \u001B[38;5;28;01mimport\u001B[39;00m fill_missing_values\n\u001B[1;32m      6\u001B[0m \u001B[38;5;28;01mfrom\u001B[39;00m \u001B[38;5;21;01msrc\u001B[39;00m\u001B[38;5;21;01m.\u001B[39;00m\u001B[38;5;21;01mcorrelation_analysis\u001B[39;00m \u001B[38;5;28;01mimport\u001B[39;00m calculate_correlation\n\u001B[1;32m      7\u001B[0m \u001B[38;5;28;01mfrom\u001B[39;00m \u001B[38;5;21;01msrc\u001B[39;00m\u001B[38;5;21;01m.\u001B[39;00m\u001B[38;5;21;01munique_values\u001B[39;00m \u001B[38;5;28;01mimport\u001B[39;00m unique_values_table\n",
      "\u001B[0;31mModuleNotFoundError\u001B[0m: No module named 'src'"
     ]
    }
   ],
   "source": [
    "\n",
    "# analysis.ipynb\n",
    "\n",
    "# Notebook for exploratory analysis and combining tasks\n",
    "import pandas as pd\n",
    "from src.fill_missing_values import fill_missing_values\n",
    "from src.correlation_analysis import calculate_correlation\n",
    "from src.unique_values import unique_values_table\n",
    "from src.create_columns import create_columns\n",
    "from src.visualize_data import plot_stacked_bar_chart\n",
    "\n",
    "# Load dataset\n",
    "df = pd.read_csv('data/input1.csv')\n",
    "\n",
    "# Fill missing values\n",
    "df_filled = fill_missing_values(df)\n",
    "\n",
    "# Correlation analysis\n",
    "correlation_coefficient, p_value = calculate_correlation(df_filled)\n",
    "\n",
    "# Unique values table\n",
    "unique_values = unique_values_table(df_filled)\n",
    "\n",
    "# Create new columns\n",
    "df_filled = create_columns(df_filled)\n",
    "\n",
    "# Visualization\n",
    "plot_stacked_bar_chart(df_filled)\n",
    "\n",
    "# Display results\n",
    "print(\"Correlation Coefficient:\", correlation_coefficient)\n",
    "print(\"P-Value:\", p_value)\n",
    "print(\"Unique Values Table:\\n\", unique_values)\n",
    "df_filled.head()\n"
   ]
  },
  {
   "cell_type": "code",
   "execution_count": null,
   "id": "b47c33cc-38cd-47de-a445-3e0bc3b426f7",
   "metadata": {},
   "outputs": [],
   "source": []
  },
  {
   "cell_type": "code",
   "execution_count": null,
   "id": "fd824b12-a426-4b20-9c8a-3f7283c05991",
   "metadata": {},
   "outputs": [],
   "source": []
  }
 ],
 "metadata": {
  "kernelspec": {
   "display_name": "Python 3 (ipykernel)",
   "language": "python",
   "name": "python3"
  },
  "language_info": {
   "codemirror_mode": {
    "name": "ipython",
    "version": 3
   },
   "file_extension": ".py",
   "mimetype": "text/x-python",
   "name": "python",
   "nbconvert_exporter": "python",
   "pygments_lexer": "ipython3",
   "version": "3.12.3"
  }
 },
 "nbformat": 4,
 "nbformat_minor": 5
}
