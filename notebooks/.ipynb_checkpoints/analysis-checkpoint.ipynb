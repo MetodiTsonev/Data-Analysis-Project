{
 "cells": [
  {
   "cell_type": "code",
   "execution_count": null,
   "id": "initial_id",
   "metadata": {
    "collapsed": true
   },
   "outputs": [],
   "source": []
  },
  {
   "cell_type": "code",
   "outputs": [],
   "source": [
    "# analysis.ipynb\n",
    "\n",
    "# Notebook for exploratory analysis and combining tasks\n",
    "import pandas as pd\n",
    "from src.fill_missing_values import fill_missing_values\n",
    "from src.correlation_analysis import calculate_correlation\n",
    "from src.unique_values import unique_values_table\n",
    "from src.create_columns import create_columns\n",
    "from src.visualize_data import plot_stacked_bar_chart\n",
    "\n",
    "# Load dataset\n",
    "df = pd.read_csv('data/input1.csv')\n",
    "\n",
    "# Fill missing values\n",
    "df_filled = fill_missing_values(df)\n",
    "\n",
    "# Correlation analysis\n",
    "correlation_coefficient, p_value = calculate_correlation(df_filled)\n",
    "\n",
    "# Unique values table\n",
    "unique_values = unique_values_table(df_filled)\n",
    "\n",
    "# Create new columns\n",
    "df_filled = create_columns(df_filled)\n",
    "\n",
    "# Visualization\n",
    "plot_stacked_bar_chart(df_filled)\n",
    "\n",
    "# Display results\n",
    "print(\"Correlation Coefficient:\", correlation_coefficient)\n",
    "print(\"P-Value:\", p_value)\n",
    "print(\"Unique Values Table:\\n\", unique_values)\n",
    "df_filled.head()\n"
   ],
   "metadata": {
    "collapsed": false
   },
   "id": "4f4324211e9bfd4d"
  }
 ],
 "metadata": {
  "kernelspec": {
   "display_name": "Python 3",
   "language": "python",
   "name": "python3"
  },
  "language_info": {
   "codemirror_mode": {
    "name": "ipython",
    "version": 2
   },
   "file_extension": ".py",
   "mimetype": "text/x-python",
   "name": "python",
   "nbconvert_exporter": "python",
   "pygments_lexer": "ipython2",
   "version": "2.7.6"
  }
 },
 "nbformat": 4,
 "nbformat_minor": 5
}
